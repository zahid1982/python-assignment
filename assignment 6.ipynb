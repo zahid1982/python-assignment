{
 "cells": [
  {
   "cell_type": "code",
   "execution_count": null,
   "metadata": {},
   "outputs": [],
   "source": [
    "#Question 1:Define Object Oriented Programming Language?\n",
    "Ans. Object-oriented programming (OOP) refers to a type of computer programming\n",
    "(software design) in which programmers define the data type of a data structure,\n",
    "and also the types of operations (functions) that can be applied to the data structure"
   ]
  },
  {
   "cell_type": "code",
   "execution_count": null,
   "metadata": {},
   "outputs": [],
   "source": [
    "Question 2:List down the Benefits of OOP?\n",
    "answer\n",
    "1. Re-usability\n",
    "2. Data Redundancy\n",
    "3. Code Maintenance\n",
    "4. Security\n",
    "7. Easy troubleshooting\n",
    "8. Polymorphism Flexibility\n",
    "9. Problems solving\n"
   ]
  },
  {
   "cell_type": "code",
   "execution_count": null,
   "metadata": {},
   "outputs": [],
   "source": [
    "#Question 3:Differentiate between function and method?\n",
    "ans.   A function is a piece of code that is called by name. \n",
    "It can be passed data to operate on (i.e. the parameters) and can \n",
    "optionally return data (the return value). All data that is passed to a\n",
    "function is explicitly passed. A method is a piece of code that is called by a name\n",
    "that is associated with an object\n"
   ]
  },
  {
   "cell_type": "code",
   "execution_count": null,
   "metadata": {},
   "outputs": [],
   "source": [
    "Question 4:Define the following terms:1. Class 2. Object 3. Attribute 4. Behavior        \n",
    "\n",
    "ans.1.Class: A class is a code template for creating objects. \n",
    "    Objects have member variables and have behaviour \n",
    "    associated with them. In python a class is created by the\n",
    "    keyword class . An object is created using the constructor of the class. \n",
    "    This object will then be called the instance of the class\n",
    "    \n",
    "    2.Object : python is an object oriented programming language.\n",
    "    Almost everything in Python is an object, with its properties and methods.\n",
    "    A Class is like an object constructor, or a \"blueprint\" for creating objects\n",
    "    \n",
    "    3.Attribute:\n",
    "    All functions have a built-in \n",
    "    attribute __doc__, which returns the doc string \n",
    "    defined in the function source code. We can also assign new \n",
    "    attributes to them, as well as retrieve the values of those attributes.\n",
    "    \n",
    "    4.Behavior: Objects in Python are generally classified according\n",
    "    to their behaviors and the features that they implement. For example, \n",
    "    all of the sequence types such as strings, lists, and tuples are grouped\n",
    "    together merely because they all happen to support a common set of sequence\n",
    "    operations such as s[n], len(s), etc\n",
    "\n",
    "\n",
    "\n",
    "        \n"
   ]
  },
  {
   "cell_type": "code",
   "execution_count": 3,
   "metadata": {},
   "outputs": [],
   "source": [
    "#Question 5:Write a code in python in which create a class named it Car .........\n",
    "\n",
    "class Car:\n",
    "    def __init__(self, color, model, year):\n",
    "        self.color = color\n",
    "        self.model = model\n",
    "        self.year = year\n",
    "        self._voltage = 12\n",
    "\n",
    "    @property\n",
    "    def voltage(self):\n",
    "        return self._voltage\n",
    "\n",
    "    @voltage.setter\n",
    "    def voltage(self, volts):\n",
    "        print(\"Warning: this can cause problems!\")\n",
    "        self._voltage = volts\n",
    "\n",
    "    @voltage.deleter\n",
    "    def voltage(self):\n",
    "        print(\"Warning: the radio will stop working!\")\n",
    "        del self._voltage\n",
    "\n",
    "\n",
    "\n"
   ]
  },
  {
   "cell_type": "code",
   "execution_count": null,
   "metadata": {},
   "outputs": [],
   "source": []
  }
 ],
 "metadata": {
  "kernelspec": {
   "display_name": "Python 3",
   "language": "python",
   "name": "python3"
  },
  "language_info": {
   "codemirror_mode": {
    "name": "ipython",
    "version": 3
   },
   "file_extension": ".py",
   "mimetype": "text/x-python",
   "name": "python",
   "nbconvert_exporter": "python",
   "pygments_lexer": "ipython3",
   "version": "3.7.4"
  }
 },
 "nbformat": 4,
 "nbformat_minor": 2
}
