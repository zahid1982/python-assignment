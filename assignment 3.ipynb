{
 "cells": [
  {
   "cell_type": "code",
   "execution_count": null,
   "metadata": {},
   "outputs": [],
   "source": [
    "choice = input(\"Enter operator to use:\")\n",
    "A = int(input(\"Enter first number: \"))\n",
    "B = int(input(\"Enter second number: \"))\n",
    "if choice == '+':\n",
    "   print(A,\"+\",B,\"=\", add(A,B))\n",
    "elif choice == '-':\n",
    "   print(A,\"-\",B,\"=\", subtract(A,B))\n",
    "elif choice == '*':\n",
    "   print(A,\"*\",B,\"=\", multiply(A,B))\n",
    "elif choice == '/':\n",
    "   print(A,\"/\",B,\"=\", divide(A,B))\n",
    "else:\n",
    "     print(\"Invalid input\")\n"
   ]
  },
  {
   "cell_type": "code",
   "execution_count": null,
   "metadata": {},
   "outputs": [],
   "source": [
    "# Initializing list  \n",
    "test_list = [ 1, 6, 3, 5, 3, 4 ] \n",
    "  \n",
    "print(\"Checking if 4 exists in list ( using loop ) : \") \n",
    "  \n",
    "# Checking if 4 exists in list  \n",
    "# using loop \n",
    "for i in test_list: \n",
    "    if(i == 4) : \n",
    "        print (\"Element Exists\") \n",
    "  \n",
    "print(\"Checking if 4 exists in list ( using in ) : \") \n",
    "  \n",
    "# Checking if 4 exists in list  \n",
    "# using in \n",
    "if (4 in test_list): \n",
    "    print(\"Element Exists\") \n",
    " "
   ]
  },
  {
   "cell_type": "code",
   "execution_count": null,
   "metadata": {},
   "outputs": [],
   "source": [
    "dict = {'key1':'geeks', 'key2':'fill_me'} \n",
    "print(\"Current Dict is: \", dict) \n",
    "  \n",
    "# using the subscript notation \n",
    "# Dictionary_Name[New_Key_Name] = New_Key_Value \n",
    "dict['key2'] = 'for'\n",
    "dict['key3'] = 'geeks'\n",
    "print(\"Updated Dict is: \", dict) \n"
   ]
  },
  {
   "cell_type": "code",
   "execution_count": null,
   "metadata": {},
   "outputs": [],
   "source": [
    "d = {\n",
    "   'foo': 10,\n",
    "   'bar': 20,\n",
    "   'baz': 30\n",
    "}\n",
    "print(sum(d.values()))\n"
   ]
  },
  {
   "cell_type": "code",
   "execution_count": null,
   "metadata": {},
   "outputs": [],
   "source": [
    "def unique_list(list):\n",
    "    uniq_list = []\n",
    "    uniq_set = set()\n",
    "    for item in list:\n",
    "        if item not in uniq_set:\n",
    "        uniq_list.append(item)\n",
    "           uniq_set.add(item)\n",
    "    return uniq_list\n",
    " \n",
    "list = [10,20,30,10,10,30,40,50]\n",
    "print(unique_list(list))\n"
   ]
  },
  {
   "cell_type": "code",
   "execution_count": null,
   "metadata": {},
   "outputs": [],
   "source": [
    "6. Write a Python script to check if a given key already exists in a dictionary\n",
    "d={'A':1,'B':2,'C':3}\n",
    "key=raw_input(\"Enter key to check:\")\n",
    "if key in d.keys():\n",
    "      print(\"Key is present and value of the key is:\")\n",
    "        print(d[key])\n",
    "else:\n",
    "      print(\"Key isn't present!\")\n"
   ]
  },
  {
   "cell_type": "code",
   "execution_count": null,
   "metadata": {},
   "outputs": [],
   "source": []
  }
 ],
 "metadata": {
  "kernelspec": {
   "display_name": "Python 3",
   "language": "python",
   "name": "python3"
  },
  "language_info": {
   "codemirror_mode": {
    "name": "ipython",
    "version": 3
   },
   "file_extension": ".py",
   "mimetype": "text/x-python",
   "name": "python",
   "nbconvert_exporter": "python",
   "pygments_lexer": "ipython3",
   "version": "3.7.4"
  }
 },
 "nbformat": 4,
 "nbformat_minor": 2
}
