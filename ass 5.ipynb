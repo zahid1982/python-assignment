{
 "cells": [
  {
   "cell_type": "code",
   "execution_count": null,
   "metadata": {},
   "outputs": [],
   "source": [
    "num= input(\"Enter Value to find Factorial:\");\n",
    "num=int(num);\n",
    "def Factorial(num):\n",
    "    f=1;\n",
    "    if num<1:\n",
    "        print(\"please enter value that is greater then one\");\n",
    "    elif num>=1:\n",
    "        for i in range(1,num+1):\n",
    "            f=f*i;\n",
    "        print(\"Factorial of a\", num , \"=\", f);\n",
    "    else:\n",
    "        print(\"Invalid Value Enter\");\n",
    "Factorial(num);"
   ]
  },
  {
   "cell_type": "code",
   "execution_count": null,
   "metadata": {},
   "outputs": [],
   "source": [
    "#Count upper case and lower case by fuction\n",
    "\n",
    "def CountUpperLower(stns):\n",
    "    upper=0;\n",
    "    lower=0;\n",
    "    for i in stns:\n",
    "        if i>=\"A\" and i<=\"Z\":\n",
    "            upper +=1;\n",
    "        elif i>=\"a\" and i<=\"z\":\n",
    "            lower +=1;\n",
    "    print(\"Upper case\",upper);\n",
    "    print(\"Lower case\", lower);\n",
    "\n",
    "stns = input(\"Enter String:\");\n",
    "CountUpperLower(stns);\n"
   ]
  },
  {
   "cell_type": "code",
   "execution_count": null,
   "metadata": {},
   "outputs": [],
   "source": [
    "List = [];\n",
    "n = int(input(\"Enter number of element you want to enter\"));\n",
    "for i in range(0, n):\n",
    "    num= int(input());\n",
    "    List.append(num)\n",
    "#print(List);\n",
    "def EvenNum(List):\n",
    "    for num in List:\n",
    "        if num % 2==0:  \n",
    "            print(num, end =\", \");\n",
    "EvenNum(List);\n"
   ]
  },
  {
   "cell_type": "code",
   "execution_count": null,
   "metadata": {},
   "outputs": [],
   "source": [
    "# check the prime number by function\n",
    "num = int(input(\"Enter num to check it is prime or not: \"));\n",
    "def checkPrime(num):\n",
    "    if num>1:\n",
    "        for i in range(2,num//2):\n",
    "            if(num % i)==0:\n",
    "                print(num, \" is not a prime\");\n",
    "                break;\n",
    "            else:\n",
    "                print(num, \"is a prime number \");\n",
    "    else:\n",
    "        print(num, \"is not a prime number\");\n",
    "\n",
    "checkPrime(num);\n",
    "\n"
   ]
  },
  {
   "cell_type": "code",
   "execution_count": null,
   "metadata": {},
   "outputs": [],
   "source": [
    "def checkPaln(string):\n",
    "    if(string==string[::-1]):\n",
    "        print(\"The string is a palindrome\")\n",
    "    else:\n",
    "        print(\"Not a palindrome\")\n",
    "string= input(\"Etner word to check is it Palindrome: \");\n",
    "checkPaln(string)"
   ]
  },
  {
   "cell_type": "code",
   "execution_count": null,
   "metadata": {},
   "outputs": [],
   "source": []
  }
 ],
 "metadata": {
  "kernelspec": {
   "display_name": "Python 3",
   "language": "python",
   "name": "python3"
  },
  "language_info": {
   "codemirror_mode": {
    "name": "ipython",
    "version": 3
   },
   "file_extension": ".py",
   "mimetype": "text/x-python",
   "name": "python",
   "nbconvert_exporter": "python",
   "pygments_lexer": "ipython3",
   "version": "3.7.4"
  }
 },
 "nbformat": 4,
 "nbformat_minor": 2
}
